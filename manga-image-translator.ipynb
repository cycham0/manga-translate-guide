{
 "cells": [
  {
   "cell_type": "code",
   "execution_count": null,
   "id": "ed95a576",
   "metadata": {
    "vscode": {
     "languageId": "plaintext"
    }
   },
   "outputs": [],
   "source": [
    "from google.colab import drive\n",
    "drive.mount('/content/drive')\n",
    "git clone https://github.com/zyddnys/manga-image-translator /content/drive/MyDrive/manga-image-translator\n",
    "// After git clone, your google Drive will have a folder \"manga-image-translator\"\n",
    "// Next time you use it can comment/delete the git clone line\n",
    "%cd /content/drive/MyDrive/manga-image-translator/\n",
    "!python -m pip install -r requirements.txt\n",
    "// The openai package in the txt is too old, any it cannot not run in Colab\n",
    "!pip uninstall openai\n",
    "!pip install openai --upgrade"
   ]
  },
  {
   "cell_type": "code",
   "execution_count": null,
   "id": "707b7d0e",
   "metadata": {
    "vscode": {
     "languageId": "plaintext"
    }
   },
   "outputs": [],
   "source": [
    "%%writefile /content/drive/MyDrive/manga-image-translator/.env\n",
    "// for example if you use openai serive, details please visit [Environment Variables Summary](https://github.com/zyddnys/manga-image-translator?tab=readme-ov-file#environment-variables-summary)\n",
    "OPENAI_API_BASE = 'https://api.openai.com/v1'\n",
    "OPENAI_API_KEY = 'YOUR OPEN AI KEY'\n",
    "// Sometimes I use sakura because it have my favourite dictionary, it only support Japanese to Chinese (Simplified)\n",
    "SAKURA_DICT_PATH = '/content/drive/MyDrive/manga-image-translator/sakura_dict.txt' // \n",
    "SAKURA_API_BASE = 'YOUR SAKURA API BASE'\n",
    "SAKURA_VERSION = '0.10' // '0.9' or '0.10', '0.10' support dictionary"
   ]
  },
  {
   "cell_type": "code",
   "execution_count": null,
   "id": "14ca801b",
   "metadata": {
    "vscode": {
     "languageId": "plaintext"
    }
   },
   "outputs": [],
   "source": [
    "// Check if the environment file is setup properly\n",
    "\n",
    "from dotenv import load_dotenv\n",
    "import os\n",
    "\n",
    "# Load the .env file\n",
    "load_dotenv('/content/drive/MyDrive/manga-image-translator/.env', override=True)\n",
    "\n",
    "openai_base = os.environ.get('OPENAI_API_BASE')\n",
    "openai_api = os.environ.get('OPENAI_API_KEY')\n",
    "sakura_api_base = os.environ.get('SAKURA_API_BASE')\n",
    "sakura_dict_path = os.environ.get('SAKURA_DICT_PATH')\n",
    "sakura_version = os.environ.get('SAKURA_VERSION')\n",
    "print(\"OPENAI_API_BASE:\", openai_base)\n",
    "print(\"OPENAI_API_KEY:\", openai_api)\n",
    "print(\"SAKURA_API_BASE:\", sakura_api_base)\n",
    "print(\"SAKURA_DICT_PATH:\", sakura_dict_path)\n",
    "print(\"SAKURA_VERSION:\", sakura_version)"
   ]
  },
  {
   "cell_type": "code",
   "execution_count": null,
   "id": "3e428bb4",
   "metadata": {
    "vscode": {
     "languageId": "plaintext"
    }
   },
   "outputs": [],
   "source": [
    "// Check if the Sakura dictionary setup properly\n",
    "\n",
    "sakura_dict_path = os.environ.get('SAKURA_DICT_PATH')\n",
    "with open(sakura_dict_path, 'r') as file:\n",
    "    contents = file.read()\n",
    "    print(contents)"
   ]
  },
  {
   "cell_type": "markdown",
   "id": "b9c97a08",
   "metadata": {},
   "source": [
    "1. Build a config-info.json directly under folder \"manga-image-translator\" with the sample provided in https://github.com/zyddnys/manga-image-translator/blob/main/examples/config-example.json\n",
    "2. Modifed the config file, espeically the line 24-25  \n",
    "    \"translator\": \"openai\", <-Choose your prefer translator\n",
    "    \"target_lang\": \"ENG\", <-Choose your prefer target language\n",
    "3. Create a folder named \"manga\", then create a folder \"raw\" under it, then place the manga you need to translate under it\n",
    "4. If the Google Colab cannot notice there is a updated of files in the Google drive, you may need to wait a while, the worst case is that you need start fom the beginning but remember to comment/delete the git clone line in the 1st block"
   ]
  },
  {
   "cell_type": "code",
   "execution_count": null,
   "id": "0a32a004",
   "metadata": {
    "vscode": {
     "languageId": "plaintext"
    }
   },
   "outputs": [],
   "source": [
    "!python -m manga_translator config-help >> config-info.json"
   ]
  },
  {
   "cell_type": "code",
   "execution_count": null,
   "id": "d6ee0c20",
   "metadata": {
    "vscode": {
     "languageId": "plaintext"
    }
   },
   "outputs": [],
   "source": [
    "from google.colab.output import eval_js\n",
    "!python -m manga_translator local -v --use-gpu -i '/content/drive/MyDrive/manga-image-translator/manga/raw'"
   ]
  }
 ],
 "metadata": {
  "language_info": {
   "name": "python"
  }
 },
 "nbformat": 4,
 "nbformat_minor": 5
}
